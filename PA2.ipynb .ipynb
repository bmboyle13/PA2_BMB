{
 "cells": [
  {
   "cell_type": "markdown",
   "id": "86dcbfcf",
   "metadata": {},
   "source": [
    "# PA2\n",
    "## Brandon Boyle\n",
    "### Version 1"
   ]
  },
  {
   "cell_type": "code",
   "execution_count": 2,
   "id": "98e9f5d2",
   "metadata": {},
   "outputs": [
    {
     "data": {
      "text/plain": [
       "13"
      ]
     },
     "execution_count": 2,
     "metadata": {},
     "output_type": "execute_result"
    }
   ],
   "source": [
    "#floating number\n",
    "13"
   ]
  },
  {
   "cell_type": "code",
   "execution_count": 3,
   "id": "2524c8d8",
   "metadata": {},
   "outputs": [
    {
     "data": {
      "text/plain": [
       "5"
      ]
     },
     "execution_count": 3,
     "metadata": {},
     "output_type": "execute_result"
    }
   ],
   "source": [
    "#integer\n",
    "5"
   ]
  },
  {
   "cell_type": "code",
   "execution_count": 4,
   "id": "4f8a0328",
   "metadata": {},
   "outputs": [
    {
     "data": {
      "text/plain": [
       "18"
      ]
     },
     "execution_count": 4,
     "metadata": {},
     "output_type": "execute_result"
    }
   ],
   "source": [
    "#sum\n",
    "13+5"
   ]
  },
  {
   "cell_type": "code",
   "execution_count": 5,
   "id": "7e5d05d7",
   "metadata": {},
   "outputs": [
    {
     "data": {
      "text/plain": [
       "8"
      ]
     },
     "execution_count": 5,
     "metadata": {},
     "output_type": "execute_result"
    }
   ],
   "source": [
    "#difference\n",
    "13-5"
   ]
  },
  {
   "cell_type": "code",
   "execution_count": 6,
   "id": "9b64968a",
   "metadata": {},
   "outputs": [
    {
     "data": {
      "text/plain": [
       "65"
      ]
     },
     "execution_count": 6,
     "metadata": {},
     "output_type": "execute_result"
    }
   ],
   "source": [
    "#product\n",
    "13*5"
   ]
  },
  {
   "cell_type": "code",
   "execution_count": 7,
   "id": "710199f7",
   "metadata": {},
   "outputs": [
    {
     "data": {
      "text/plain": [
       "2.6"
      ]
     },
     "execution_count": 7,
     "metadata": {},
     "output_type": "execute_result"
    }
   ],
   "source": [
    "#quotient\n",
    "13/5"
   ]
  },
  {
   "cell_type": "code",
   "execution_count": 9,
   "id": "9dc7a33b",
   "metadata": {},
   "outputs": [
    {
     "name": "stdout",
     "output_type": "stream",
     "text": [
      "<class 'float'>\n"
     ]
    }
   ],
   "source": [
    "print(type(2.6))"
   ]
  },
  {
   "cell_type": "code",
   "execution_count": 10,
   "id": "78bad86a",
   "metadata": {},
   "outputs": [
    {
     "data": {
      "text/plain": [
       "77"
      ]
     },
     "execution_count": 10,
     "metadata": {},
     "output_type": "execute_result"
    }
   ],
   "source": [
    "#floating number\n",
    "77"
   ]
  },
  {
   "cell_type": "code",
   "execution_count": 11,
   "id": "0e1d92c5",
   "metadata": {},
   "outputs": [
    {
     "data": {
      "text/plain": [
       "11"
      ]
     },
     "execution_count": 11,
     "metadata": {},
     "output_type": "execute_result"
    }
   ],
   "source": [
    "#integer\n",
    "11"
   ]
  },
  {
   "cell_type": "code",
   "execution_count": 12,
   "id": "48a3a789",
   "metadata": {},
   "outputs": [
    {
     "data": {
      "text/plain": [
       "88"
      ]
     },
     "execution_count": 12,
     "metadata": {},
     "output_type": "execute_result"
    }
   ],
   "source": [
    "#sum\n",
    "77+11"
   ]
  },
  {
   "cell_type": "code",
   "execution_count": 13,
   "id": "430180ce",
   "metadata": {},
   "outputs": [
    {
     "data": {
      "text/plain": [
       "66"
      ]
     },
     "execution_count": 13,
     "metadata": {},
     "output_type": "execute_result"
    }
   ],
   "source": [
    "#difference\n",
    "77-11"
   ]
  },
  {
   "cell_type": "code",
   "execution_count": 14,
   "id": "c8fc5f99",
   "metadata": {},
   "outputs": [
    {
     "data": {
      "text/plain": [
       "847"
      ]
     },
     "execution_count": 14,
     "metadata": {},
     "output_type": "execute_result"
    }
   ],
   "source": [
    "#product\n",
    "77*11"
   ]
  },
  {
   "cell_type": "code",
   "execution_count": 15,
   "id": "351cf4f1",
   "metadata": {},
   "outputs": [
    {
     "data": {
      "text/plain": [
       "7.0"
      ]
     },
     "execution_count": 15,
     "metadata": {},
     "output_type": "execute_result"
    }
   ],
   "source": [
    "#quotient\n",
    "77/11"
   ]
  },
  {
   "cell_type": "code",
   "execution_count": 16,
   "id": "01f2347f",
   "metadata": {},
   "outputs": [
    {
     "name": "stdout",
     "output_type": "stream",
     "text": [
      "<class 'float'>\n"
     ]
    }
   ],
   "source": [
    "print(type(7.0))"
   ]
  },
  {
   "cell_type": "code",
   "execution_count": null,
   "id": "386b8dd6",
   "metadata": {},
   "outputs": [],
   "source": []
  }
 ],
 "metadata": {
  "kernelspec": {
   "display_name": "Python 3 (ipykernel)",
   "language": "python",
   "name": "python3"
  },
  "language_info": {
   "codemirror_mode": {
    "name": "ipython",
    "version": 3
   },
   "file_extension": ".py",
   "mimetype": "text/x-python",
   "name": "python",
   "nbconvert_exporter": "python",
   "pygments_lexer": "ipython3",
   "version": "3.9.13"
  }
 },
 "nbformat": 4,
 "nbformat_minor": 5
}
