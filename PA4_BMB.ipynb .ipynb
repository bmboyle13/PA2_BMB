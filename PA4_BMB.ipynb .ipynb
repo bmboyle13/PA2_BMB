{
 "cells": [
  {
   "cell_type": "markdown",
   "id": "70261023",
   "metadata": {},
   "source": [
    "# PA4_BMB\n",
    "## Brandon Boyle\n",
    "### Version 1\n"
   ]
  },
  {
   "cell_type": "code",
   "execution_count": 1,
   "id": "8104441e",
   "metadata": {},
   "outputs": [
    {
     "data": {
      "text/plain": [
       "['red', 'blue', 'green']"
      ]
     },
     "execution_count": 1,
     "metadata": {},
     "output_type": "execute_result"
    }
   ],
   "source": [
    "#Append will add an element to the end of a list\n",
    "colors=[]\n",
    "colors.append(\"red\")\n",
    "colors.append(\"blue\")\n",
    "colors.append(\"green\")\n",
    "colors"
   ]
  },
  {
   "cell_type": "code",
   "execution_count": 2,
   "id": "a82757d6",
   "metadata": {},
   "outputs": [],
   "source": [
    "#Extend will combine two list together\n"
   ]
  },
  {
   "cell_type": "code",
   "execution_count": 3,
   "id": "a401ebb1",
   "metadata": {},
   "outputs": [
    {
     "data": {
      "text/plain": [
       "['red', 'orange', 'blue', 'green']"
      ]
     },
     "execution_count": 3,
     "metadata": {},
     "output_type": "execute_result"
    }
   ],
   "source": [
    "#Insert adds an element to the list based off the index you put in\n",
    "colors.insert(1,\"orange\")\n",
    "colors"
   ]
  },
  {
   "cell_type": "code",
   "execution_count": 4,
   "id": "f345bf33",
   "metadata": {},
   "outputs": [
    {
     "data": {
      "text/plain": [
       "['orange', 'blue', 'green']"
      ]
     },
     "execution_count": 4,
     "metadata": {},
     "output_type": "execute_result"
    }
   ],
   "source": [
    "#Remove will take away an element based on the elements name \n",
    "colors.remove(\"red\")\n",
    "colors"
   ]
  },
  {
   "cell_type": "code",
   "execution_count": 5,
   "id": "d9d7852f",
   "metadata": {},
   "outputs": [],
   "source": [
    "#Index is the number value thats associated with the elements \n",
    "#(orange, blue, green)\n",
    "#(0,1,2)\n",
    "#or\n",
    "#(-3,-2,-1)"
   ]
  },
  {
   "cell_type": "code",
   "execution_count": 6,
   "id": "3fcaa87b",
   "metadata": {},
   "outputs": [
    {
     "data": {
      "text/plain": [
       "['orange', 'blue']"
      ]
     },
     "execution_count": 6,
     "metadata": {},
     "output_type": "execute_result"
    }
   ],
   "source": [
    "#Pop will remove an element based off of its index\n",
    "colors.pop(2)\n",
    "colors"
   ]
  },
  {
   "cell_type": "code",
   "execution_count": 7,
   "id": "105f4c7b",
   "metadata": {},
   "outputs": [
    {
     "data": {
      "text/plain": [
       "[1, 2, 5, 22, 44, 94]"
      ]
     },
     "execution_count": 7,
     "metadata": {},
     "output_type": "execute_result"
    }
   ],
   "source": [
    "#Sorted is a temporary way to organize numbers in numeric order\n",
    "numbers=[5,22,1,94,44,2]\n",
    "sorted(numbers)"
   ]
  },
  {
   "cell_type": "code",
   "execution_count": 8,
   "id": "4a3250e5",
   "metadata": {},
   "outputs": [
    {
     "name": "stdout",
     "output_type": "stream",
     "text": [
      "Foods: ['Burrito', 'Taco', 'Enchiladas']\n",
      "Mexican Foods: ['Burrito', 'Taco', 'Enchiladas']\n"
     ]
    }
   ],
   "source": [
    "#Copy will make one list the same as another list \n",
    "foods=[\"Burrito\",\"Taco\",\"Enchiladas\"]\n",
    "mexican_foods=foods [:]\n",
    "\n",
    "print(\"Foods:\",foods)\n",
    "print(\"Mexican Foods:\",mexican_foods)"
   ]
  },
  {
   "cell_type": "code",
   "execution_count": 9,
   "id": "8be4287a",
   "metadata": {},
   "outputs": [],
   "source": [
    "#Clear will get rid of everything in the list"
   ]
  },
  {
   "cell_type": "code",
   "execution_count": 10,
   "id": "3d3937fc",
   "metadata": {},
   "outputs": [
    {
     "data": {
      "text/plain": [
       "['Nike', 'Adidas', 'Puma', 'North Face']"
      ]
     },
     "execution_count": 10,
     "metadata": {},
     "output_type": "execute_result"
    }
   ],
   "source": [
    "#List is a group of elements all together \n",
    "brands=[\"Nike\",\"Adidas\",\"Puma\",\"North Face\"]\n",
    "brands"
   ]
  },
  {
   "cell_type": "code",
   "execution_count": 11,
   "id": "39d1703b",
   "metadata": {},
   "outputs": [
    {
     "data": {
      "text/plain": [
       "4"
      ]
     },
     "execution_count": 11,
     "metadata": {},
     "output_type": "execute_result"
    }
   ],
   "source": [
    "#Len will tell you how many elements are in the list\n",
    "len(brands)"
   ]
  },
  {
   "cell_type": "code",
   "execution_count": 12,
   "id": "ea1f6b23",
   "metadata": {},
   "outputs": [
    {
     "name": "stdout",
     "output_type": "stream",
     "text": [
      "[5, 22, 1, 94, 44, 2]\n"
     ]
    },
    {
     "data": {
      "text/plain": [
       "94"
      ]
     },
     "execution_count": 12,
     "metadata": {},
     "output_type": "execute_result"
    }
   ],
   "source": [
    "#Max will show the greatest element in the list\n",
    "print(numbers)\n",
    "max(numbers)"
   ]
  },
  {
   "cell_type": "code",
   "execution_count": 13,
   "id": "e250c2f7",
   "metadata": {},
   "outputs": [
    {
     "name": "stdout",
     "output_type": "stream",
     "text": [
      "[5, 22, 1, 94, 44, 2]\n"
     ]
    },
    {
     "data": {
      "text/plain": [
       "1"
      ]
     },
     "execution_count": 13,
     "metadata": {},
     "output_type": "execute_result"
    }
   ],
   "source": [
    "#Min will show the smallest number in the list\n",
    "print(numbers)\n",
    "min(numbers)"
   ]
  },
  {
   "cell_type": "code",
   "execution_count": null,
   "id": "44ac6459",
   "metadata": {},
   "outputs": [],
   "source": []
  }
 ],
 "metadata": {
  "kernelspec": {
   "display_name": "Python 3 (ipykernel)",
   "language": "python",
   "name": "python3"
  },
  "language_info": {
   "codemirror_mode": {
    "name": "ipython",
    "version": 3
   },
   "file_extension": ".py",
   "mimetype": "text/x-python",
   "name": "python",
   "nbconvert_exporter": "python",
   "pygments_lexer": "ipython3",
   "version": "3.9.13"
  }
 },
 "nbformat": 4,
 "nbformat_minor": 5
}
